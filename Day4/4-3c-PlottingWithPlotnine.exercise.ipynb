{
  "cells": [
    {
      "cell_type": "code",
      "execution_count": 3,
      "id": "252f7f23-80dc-40e9-8f4f-51485d11f91c",
      "metadata": {},
      "outputs": [
        {
          "name": "stdout",
          "output_type": "stream",
          "text": [
            "Requirement already satisfied: pandas in /home/nickdg/miniconda3/envs/py10/lib/python3.10/site-packages (1.5.0)\n",
            "Collecting plotnine\n",
            "  Downloading plotnine-0.10.1-py3-none-any.whl (1.2 MB)\n",
            "\u001b[2K     \u001b[38;2;114;156;31m\u2501\u2501\u2501\u2501\u2501\u2501\u2501\u2501\u2501\u2501\u2501\u2501\u2501\u2501\u2501\u2501\u2501\u2501\u2501\u2501\u2501\u2501\u2501\u2501\u2501\u2501\u2501\u2501\u2501\u2501\u2501\u2501\u2501\u2501\u2501\u2501\u2501\u2501\u2501\u2501\u001b[0m \u001b[32m1.2/1.2 MB\u001b[0m \u001b[31m14.8 MB/s\u001b[0m eta \u001b[36m0:00:00\u001b[0mm eta \u001b[36m0:00:01\u001b[0m:01\u001b[0m\n",
            "\u001b[?25hRequirement already satisfied: numpy>=1.21.0 in /home/nickdg/miniconda3/envs/py10/lib/python3.10/site-packages (from pandas) (1.23.3)\n",
            "Requirement already satisfied: python-dateutil>=2.8.1 in /home/nickdg/miniconda3/envs/py10/lib/python3.10/site-packages (from pandas) (2.8.2)\n",
            "Requirement already satisfied: pytz>=2020.1 in /home/nickdg/miniconda3/envs/py10/lib/python3.10/site-packages (from pandas) (2022.4)\n",
            "Requirement already satisfied: statsmodels>=0.13.2 in /home/nickdg/miniconda3/envs/py10/lib/python3.10/site-packages (from plotnine) (0.13.2)\n",
            "Requirement already satisfied: matplotlib>=3.5.0 in /home/nickdg/miniconda3/envs/py10/lib/python3.10/site-packages (from plotnine) (3.6.0)\n",
            "Collecting mizani>=0.8.1\n",
            "  Downloading mizani-0.8.1-py3-none-any.whl (64 kB)\n",
            "\u001b[2K     \u001b[38;2;114;156;31m\u2501\u2501\u2501\u2501\u2501\u2501\u2501\u2501\u2501\u2501\u2501\u2501\u2501\u2501\u2501\u2501\u2501\u2501\u2501\u2501\u2501\u2501\u2501\u2501\u2501\u2501\u2501\u2501\u2501\u2501\u2501\u2501\u2501\u2501\u2501\u2501\u2501\u2501\u2501\u2501\u001b[0m \u001b[32m64.7/64.7 kB\u001b[0m \u001b[31m11.0 MB/s\u001b[0m eta \u001b[36m0:00:00\u001b[0m\n",
            "\u001b[?25hRequirement already satisfied: patsy>=0.5.1 in /home/nickdg/miniconda3/envs/py10/lib/python3.10/site-packages (from plotnine) (0.5.2)\n",
            "Requirement already satisfied: scipy>=1.5.0 in /home/nickdg/miniconda3/envs/py10/lib/python3.10/site-packages (from plotnine) (1.9.1)\n",
            "Requirement already satisfied: cycler>=0.10 in /home/nickdg/miniconda3/envs/py10/lib/python3.10/site-packages (from matplotlib>=3.5.0->plotnine) (0.11.0)\n",
            "Requirement already satisfied: packaging>=20.0 in /home/nickdg/miniconda3/envs/py10/lib/python3.10/site-packages (from matplotlib>=3.5.0->plotnine) (21.3)\n",
            "Requirement already satisfied: kiwisolver>=1.0.1 in /home/nickdg/miniconda3/envs/py10/lib/python3.10/site-packages (from matplotlib>=3.5.0->plotnine) (1.4.4)\n",
            "Requirement already satisfied: pyparsing>=2.2.1 in /home/nickdg/miniconda3/envs/py10/lib/python3.10/site-packages (from matplotlib>=3.5.0->plotnine) (3.0.9)\n",
            "Requirement already satisfied: contourpy>=1.0.1 in /home/nickdg/miniconda3/envs/py10/lib/python3.10/site-packages (from matplotlib>=3.5.0->plotnine) (1.0.5)\n",
            "Requirement already satisfied: fonttools>=4.22.0 in /home/nickdg/miniconda3/envs/py10/lib/python3.10/site-packages (from matplotlib>=3.5.0->plotnine) (4.37.4)\n",
            "Requirement already satisfied: pillow>=6.2.0 in /home/nickdg/miniconda3/envs/py10/lib/python3.10/site-packages (from matplotlib>=3.5.0->plotnine) (9.2.0)\n",
            "Collecting palettable\n",
            "  Downloading palettable-3.3.0-py2.py3-none-any.whl (111 kB)\n",
            "\u001b[2K     \u001b[38;2;114;156;31m\u2501\u2501\u2501\u2501\u2501\u2501\u2501\u2501\u2501\u2501\u2501\u2501\u2501\u2501\u2501\u2501\u2501\u2501\u2501\u2501\u2501\u2501\u2501\u2501\u2501\u2501\u2501\u2501\u2501\u2501\u2501\u2501\u2501\u2501\u2501\u2501\u2501\u2501\u001b[0m \u001b[32m111.8/111.8 kB\u001b[0m \u001b[31m16.5 MB/s\u001b[0m eta \u001b[36m0:00:00\u001b[0m\n",
            "\u001b[?25hRequirement already satisfied: six in /home/nickdg/miniconda3/envs/py10/lib/python3.10/site-packages (from patsy>=0.5.1->plotnine) (1.16.0)\n",
            "Installing collected packages: palettable, mizani, plotnine\n",
            "Successfully installed mizani-0.8.1 palettable-3.3.0 plotnine-0.10.1\n",
            "Note: you may need to restart the kernel to use updated packages.\n"
          ]
        }
      ],
      "source": [
        "%pip install pandas plotnine"
      ]
    },
    {
      "cell_type": "code",
      "execution_count": 4,
      "id": "6379acd4-05a5-4894-8fcd-8fed03177978",
      "metadata": {},
      "outputs": [],
      "source": [
        "import pandas as pd\n",
        "import plotnine as p9"
      ]
    },
    {
      "cell_type": "markdown",
      "id": "137cc33a-901f-4436-9e18-ba4e6e32b47c",
      "metadata": {},
      "source": [
        "## Load Titanic Dataset"
      ]
    },
    {
      "cell_type": "code",
      "execution_count": 6,
      "id": "92334f0f-2194-4b55-bc3e-ba0459051778",
      "metadata": {},
      "outputs": [
        {
          "data": {
            "text/html": [
              "<div>\n",
              "<style scoped>\n",
              "    .dataframe tbody tr th:only-of-type {\n",
              "        vertical-align: middle;\n",
              "    }\n",
              "\n",
              "    .dataframe tbody tr th {\n",
              "        vertical-align: top;\n",
              "    }\n",
              "\n",
              "    .dataframe thead th {\n",
              "        text-align: right;\n",
              "    }\n",
              "</style>\n",
              "<table border=\"1\" class=\"dataframe\">\n",
              "  <thead>\n",
              "    <tr style=\"text-align: right;\">\n",
              "      <th></th>\n",
              "      <th>survived</th>\n",
              "      <th>pclass</th>\n",
              "      <th>sex</th>\n",
              "      <th>age</th>\n",
              "      <th>sibsp</th>\n",
              "      <th>parch</th>\n",
              "      <th>fare</th>\n",
              "      <th>embarked</th>\n",
              "      <th>class</th>\n",
              "      <th>who</th>\n",
              "      <th>adult_male</th>\n",
              "      <th>deck</th>\n",
              "      <th>embark_town</th>\n",
              "      <th>alive</th>\n",
              "      <th>alone</th>\n",
              "    </tr>\n",
              "  </thead>\n",
              "  <tbody>\n",
              "    <tr>\n",
              "      <th>0</th>\n",
              "      <td>0</td>\n",
              "      <td>3</td>\n",
              "      <td>male</td>\n",
              "      <td>22.0</td>\n",
              "      <td>1</td>\n",
              "      <td>0</td>\n",
              "      <td>7.2500</td>\n",
              "      <td>S</td>\n",
              "      <td>Third</td>\n",
              "      <td>man</td>\n",
              "      <td>True</td>\n",
              "      <td>NaN</td>\n",
              "      <td>Southampton</td>\n",
              "      <td>no</td>\n",
              "      <td>False</td>\n",
              "    </tr>\n",
              "    <tr>\n",
              "      <th>1</th>\n",
              "      <td>1</td>\n",
              "      <td>1</td>\n",
              "      <td>female</td>\n",
              "      <td>38.0</td>\n",
              "      <td>1</td>\n",
              "      <td>0</td>\n",
              "      <td>71.2833</td>\n",
              "      <td>C</td>\n",
              "      <td>First</td>\n",
              "      <td>woman</td>\n",
              "      <td>False</td>\n",
              "      <td>C</td>\n",
              "      <td>Cherbourg</td>\n",
              "      <td>yes</td>\n",
              "      <td>False</td>\n",
              "    </tr>\n",
              "    <tr>\n",
              "      <th>2</th>\n",
              "      <td>1</td>\n",
              "      <td>3</td>\n",
              "      <td>female</td>\n",
              "      <td>26.0</td>\n",
              "      <td>0</td>\n",
              "      <td>0</td>\n",
              "      <td>7.9250</td>\n",
              "      <td>S</td>\n",
              "      <td>Third</td>\n",
              "      <td>woman</td>\n",
              "      <td>False</td>\n",
              "      <td>NaN</td>\n",
              "      <td>Southampton</td>\n",
              "      <td>yes</td>\n",
              "      <td>True</td>\n",
              "    </tr>\n",
              "    <tr>\n",
              "      <th>3</th>\n",
              "      <td>1</td>\n",
              "      <td>1</td>\n",
              "      <td>female</td>\n",
              "      <td>35.0</td>\n",
              "      <td>1</td>\n",
              "      <td>0</td>\n",
              "      <td>53.1000</td>\n",
              "      <td>S</td>\n",
              "      <td>First</td>\n",
              "      <td>woman</td>\n",
              "      <td>False</td>\n",
              "      <td>C</td>\n",
              "      <td>Southampton</td>\n",
              "      <td>yes</td>\n",
              "      <td>False</td>\n",
              "    </tr>\n",
              "    <tr>\n",
              "      <th>4</th>\n",
              "      <td>0</td>\n",
              "      <td>3</td>\n",
              "      <td>male</td>\n",
              "      <td>35.0</td>\n",
              "      <td>0</td>\n",
              "      <td>0</td>\n",
              "      <td>8.0500</td>\n",
              "      <td>S</td>\n",
              "      <td>Third</td>\n",
              "      <td>man</td>\n",
              "      <td>True</td>\n",
              "      <td>NaN</td>\n",
              "      <td>Southampton</td>\n",
              "      <td>no</td>\n",
              "      <td>True</td>\n",
              "    </tr>\n",
              "  </tbody>\n",
              "</table>\n",
              "</div>"
            ],
            "text/plain": [
              "   survived  pclass     sex   age  sibsp  parch     fare embarked  class  \\\n",
              "0         0       3    male  22.0      1      0   7.2500        S  Third   \n",
              "1         1       1  female  38.0      1      0  71.2833        C  First   \n",
              "2         1       3  female  26.0      0      0   7.9250        S  Third   \n",
              "3         1       1  female  35.0      1      0  53.1000        S  First   \n",
              "4         0       3    male  35.0      0      0   8.0500        S  Third   \n",
              "\n",
              "     who  adult_male deck  embark_town alive  alone  \n",
              "0    man        True  NaN  Southampton    no  False  \n",
              "1  woman       False    C    Cherbourg   yes  False  \n",
              "2  woman       False  NaN  Southampton   yes   True  \n",
              "3  woman       False    C  Southampton   yes  False  \n",
              "4    man        True  NaN  Southampton    no   True  "
            ]
          },
          "execution_count": 6,
          "metadata": {},
          "output_type": "execute_result"
        }
      ],
      "source": [
        "url = 'https://raw.githubusercontent.com/mwaskom/seaborn-data/master/titanic.csv'\n",
        "df = pd.read_csv(url)\n",
        "df.head()"
      ]
    },
    {
      "cell_type": "markdown",
      "id": "e49a3ca9-47bc-4c67-81cd-623b7912abf0",
      "metadata": {},
      "source": [
        "### Quick Plots with Plotnine: `qplot()`\n",
        "\n",
        "\n",
        "```python\n",
        "p9.qplot(\n",
        "    data=  ,  # the dataframe to plot\n",
        "    \n",
        "    # \"Geom\": Kind of Plot\n",
        "    geom=  ,  # string: the name of the geom to use \n",
        "              #    (e.g. \"bar\", \"point\", \"rug\", 'violin', 'text', 'histogram', 'density', etc)\n",
        "              #    Full list at https://plotnine.readthedocs.io/en/stable/api.html#geoms\n",
        "    \n",
        "    # \"Aesthetics\" (usually mapped to Columns in the dataframe, specific to each geom)\n",
        "    x=      , # str: the column to put on the x axis\n",
        "    y=      , # str: the column for the y axis\n",
        "    color=  , # str: a color, or the column to use for color\n",
        "    fill=   , # str: a color, or the column to use for color\n",
        "    size=   , # str or float: the column to use for size, or the size\n",
        "    facets= , # str: the column to use for making subplots\n",
        "    \n",
        "    # Labels\n",
        "    main=  ,  # str: title\n",
        "    xlab=  ,  # str: x-axis label\n",
        "    ylab=  ,  # str: y-axis label    \n",
        "    \n",
        "    # Axis Transforms\n",
        "    xlim=  , # tuple: the x-axis limits, for example (1, 20)\n",
        "    ylim=  , # tuple: the y-axis limits, for example (1, 20)\n",
        "    log=   , # str: which axes to log-tranform ('x', 'y', or 'xy')\n",
        "    asp=   , # float: set the aspect ratio of the figure\n",
        ")\n",
        "```"
      ]
    },
    {
      "cell_type": "markdown",
      "id": "85ea4cc6-cf39-41d1-a531-5d53cc783f79",
      "metadata": {},
      "source": [
        "**Exercises**: Make the requested plots using the `qplot()` function (Note: Each geom is unique in terms of what data it needs.  you may need to reference the list of geoms at https://plotnine.readthedocs.io/en/stable/api.html#geoms)"
      ]
    },
    {
      "cell_type": "markdown",
      "id": "84483baf-385e-4864-8f3b-520d157bf42b",
      "metadata": {},
      "source": [
        "Example:  Make a histogram of the ages of the passengers"
      ]
    },
    {
      "cell_type": "code",
      "execution_count": 170,
      "id": "10e9cfea-355d-4768-a531-716a3b71cd30",
      "metadata": {},
      "outputs": [
        {
          "name": "stderr",
          "output_type": "stream",
          "text": [
            "/home/nickdg/miniconda3/envs/py10/lib/python3.10/site-packages/plotnine/stats/stat_bin.py:95: PlotnineWarning: 'stat_bin()' using 'bins = 22'. Pick better value with 'binwidth'.\n",
            "/home/nickdg/miniconda3/envs/py10/lib/python3.10/site-packages/plotnine/layer.py:333: PlotnineWarning: stat_bin : Removed 177 rows containing non-finite values.\n"
          ]
        },
        {
          "data": {
            "image/png": "[encoded data removed]",
            "text/plain": [
              "<Figure size 640x480 with 1 Axes>"
            ]
          },
          "metadata": {},
          "output_type": "display_data"
        },
        {
          "data": {
            "text/plain": [
              "<ggplot: (8788705751140)>"
            ]
          },
          "execution_count": 170,
          "metadata": {},
          "output_type": "execute_result"
        }
      ],
      "source": [
        "p9.qplot(data=df, x='age', geom='histogram')"
      ]
    },
    {
      "cell_type": "markdown",
      "id": "a1f2dd3b-cbfe-40c4-a9f5-f544ca801d56",
      "metadata": {},
      "source": [
        "Make a density plot (a kind of smoothed histogram, with normalized values) of the ages of the passengers"
      ]
    },
    {
      "cell_type": "code",
      "execution_count": 175,
      "id": "60340b00-d538-4c70-b9f0-6e1f46ad800d",
      "metadata": {
        "tags": [
          "exercise"
        ]
      },
      "outputs": [],
      "source": []
    },
    {
      "cell_type": "markdown",
      "id": "31d6a8b5-3117-40b4-8c08-844eaad4ea05",
      "metadata": {},
      "source": [
        "How many people were in each class?  Use a bar geom to count the passengers (note: only need to specify x, like in the histogram and density plots)"
      ]
    },
    {
      "cell_type": "code",
      "execution_count": 214,
      "id": "d0095732-8cbe-42ab-a256-1fc58fe89871",
      "metadata": {
        "tags": [
          "exercise"
        ]
      },
      "outputs": [],
      "source": []
    },
    {
      "cell_type": "markdown",
      "id": "5cb53f9a-c7bf-4c81-a92b-73c79687df54",
      "metadata": {},
      "source": [
        "Make a density plot of the passenger ages, with different-colored lines for each class.  "
      ]
    },
    {
      "cell_type": "code",
      "execution_count": 225,
      "id": "380bbc95-c8f0-4704-bd52-a1ee87f13971",
      "metadata": {
        "tags": [
          "exercise"
        ]
      },
      "outputs": [],
      "source": []
    },
    {
      "cell_type": "markdown",
      "id": "e8478cca-4e85-472b-93ea-5a2c9c5c85af",
      "metadata": {},
      "source": [
        "Make a histogram of the ages of the passengers, with different subplots (\"facets\") for each class. Put a title on the plot: \"Passenger Ages by Class\""
      ]
    },
    {
      "cell_type": "code",
      "execution_count": 185,
      "id": "217b30af-c9c4-4394-9ff6-81d9fab758c7",
      "metadata": {
        "tags": [
          "exercise"
        ]
      },
      "outputs": [],
      "source": []
    },
    {
      "cell_type": "markdown",
      "id": "8767ed8b-96fe-49c5-917f-5563213fc7a0",
      "metadata": {},
      "source": [
        "How many men, women, and children were in each class (tip: 'color' or 'fill')?"
      ]
    },
    {
      "cell_type": "code",
      "execution_count": 223,
      "id": "a6a948e6-b793-45db-afb6-79d53e40c8a2",
      "metadata": {
        "tags": [
          "exercise"
        ]
      },
      "outputs": [],
      "source": []
    },
    {
      "cell_type": "markdown",
      "id": "80466d10-20ed-4284-adb2-0a9187144b11",
      "metadata": {},
      "source": [
        "Make a boxplot or violin plot of the ages for each class.  Which do you prefer?"
      ]
    },
    {
      "cell_type": "code",
      "execution_count": 190,
      "id": "f4f41d32-8135-4f79-98b3-4b6635e061ca",
      "metadata": {
        "tags": [
          "exercise"
        ]
      },
      "outputs": [],
      "source": []
    },
    {
      "cell_type": "markdown",
      "id": "d39776bb-21e9-4d22-88af-89b6b16868a4",
      "metadata": {},
      "source": [
        "Make a point, rug, \"smooth\", or \"density_2d\" plot of ages vs fares for each class, using either color or size for the class.  Which do you prefer?"
      ]
    },
    {
      "cell_type": "code",
      "execution_count": 235,
      "id": "df3ae4f3-a684-41fc-add6-2981b6ed6db4",
      "metadata": {
        "tags": [
          "exercise"
        ]
      },
      "outputs": [],
      "source": []
    },
    {
      "cell_type": "markdown",
      "id": "8b1438f6-7927-4daa-9751-2955eaa5a3a0",
      "metadata": {},
      "source": [
        "Make a point or jitter plot of the ages of the passengers in each class.  Which do you prefer?"
      ]
    },
    {
      "cell_type": "code",
      "execution_count": 213,
      "id": "44a6a1c7-b172-4d7f-8a5e-a938b0cff01f",
      "metadata": {
        "tags": [
          "exercise"
        ]
      },
      "outputs": [],
      "source": []
    },
    {
      "cell_type": "markdown",
      "id": "842567fe-65f6-47be-bd75-9c3aca1af273",
      "metadata": {},
      "source": [
        "## Combining Plots: Adding on More Geoms, Coordinate Transforms, etc\n",
        "\n",
        "Want to add another geom to a plot, showing both the points and a box, for example?  No problem!  Adding new elements to a plot is done in `plotnine` using the addition operator: `+`.  While you can't add multiple qplots together, you can add on to a qplot any function that starts with `geom_`, `facet_`, `coord_`, `stat_`, `position_`, `scale_` or `theme_`:\n",
        "\n",
        "For example: \n",
        "\n",
        "```python\n",
        "p9.qplot(data=df, x='class', y='age', geom='boxplot') + p9.geom_jitter() + p9.coord_flip()\n",
        "```\n",
        "\n",
        "This often starts to get pretty long.  Lines can be broken up with different techniques (no standard practice seems to be there):\n",
        "\n",
        "The backslash style:\n",
        "\n",
        "```python\n",
        "p9.qplot(data=df, x='class', y='age', geom='boxplot') \\\n",
        " + p9.geom_jitter() \\\n",
        " + p9.coord_flip()\n",
        "```\n",
        "\n",
        "The brackets style:\n",
        "\n",
        "```python\n",
        "(p9.qplot(data=df, x='class', y='age', geom='boxplot')\n",
        " + p9.geom_jitter()\n",
        " + p9.coord_flip()\n",
        ")\n",
        "```\n",
        "\n",
        "The Variable style\n",
        "```python\n",
        "plot = p9.qplot(data=df, x='class', y='age', geom='boxplot')\n",
        "plot += p9.geom_jitter()\n",
        "plot += p9.coord_flip()\n",
        "plot\n",
        "```\n",
        "\n",
        "Some modifications we will explore in this section: \n",
        "\n",
        "| Function Category | Description | List of Functions Link |\n",
        "| :-- | :-- | :-- |\n",
        "| `geom_xxx()` | Kinds of Geoms to use to represent the data | https://plotnine.readthedocs.io/en/stable/api.html#geoms |\n",
        "| `coord_xxx()` | Coordinate transforms | https://plotnine.readthedocs.io/en/stable/api.html#coordinates |\n",
        "| `theme_xxx()` | What visual themes to use (built-in themes, but new theme can also be created) | https://plotnine.readthedocs.io/en/stable/api.html#themes |\n",
        "\n",
        "\n"
      ]
    },
    {
      "cell_type": "markdown",
      "id": "f3e70e18-f397-4e4f-88bc-6e2d969febe9",
      "metadata": {},
      "source": [
        "**Exercises**"
      ]
    },
    {
      "cell_type": "markdown",
      "id": "0ebd3f82-6405-4771-9afe-1777fd8429c3",
      "metadata": {},
      "source": [
        "Make a boxplot of class vs age, showing also the data points.  Flip the coordinates so make the boxplot horizontal."
      ]
    },
    {
      "cell_type": "code",
      "execution_count": 257,
      "id": "5b8718df-2cc1-44d9-b698-2e6138cfe6c0",
      "metadata": {
        "tags": [
          "exercise"
        ]
      },
      "outputs": [],
      "source": []
    },
    {
      "cell_type": "markdown",
      "id": "89466642-7a9f-48fc-93a2-06daa16dd003",
      "metadata": {},
      "source": [
        "Make a point plot showing the ages vs fares. Include a rug to highlight the distributions of the two variables and an abline to show the linear regression between them:"
      ]
    },
    {
      "cell_type": "code",
      "execution_count": 289,
      "id": "7440d0e8-a261-4388-b135-22931a5e6e46",
      "metadata": {
        "tags": [
          "exercise"
        ]
      },
      "outputs": [],
      "source": []
    },
    {
      "cell_type": "markdown",
      "id": "1a4d362a-53af-4ee6-8176-2642b712f0f3",
      "metadata": {},
      "source": [
        "Make a bar plot showing how many poeple survived in each class (note: `df.astype({'survived': bool})`).  Make it in the theme of the fivethirtyeight website."
      ]
    },
    {
      "cell_type": "code",
      "execution_count": 288,
      "id": "51382a02-2989-49df-822b-51bd2da0a13f",
      "metadata": {
        "tags": [
          "exercise"
        ]
      },
      "outputs": [],
      "source": []
    },
    {
      "cell_type": "markdown",
      "id": "7dfca74d-c94d-4c40-9446-7dbc05cbdbe9",
      "metadata": {},
      "source": [
        "Make a horizontal violin plot in the black and while theme comparing class and age for each embark_town, showing the individual data points."
      ]
    },
    {
      "cell_type": "code",
      "execution_count": 298,
      "id": "f8801e10-0785-4dfd-950e-5d1e3432a73a",
      "metadata": {
        "tags": [
          "exercise"
        ]
      },
      "outputs": [],
      "source": []
    }
  ],
  "metadata": {
    "kernelspec": {
      "display_name": "py10",
      "language": "python",
      "name": "python3"
    },
    "language_info": {
      "codemirror_mode": {
        "name": "ipython",
        "version": 3
      },
      "file_extension": ".py",
      "mimetype": "text/x-python",
      "name": "python",
      "nbconvert_exporter": "python",
      "pygments_lexer": "ipython3",
      "version": "3.10.4 (main, Mar 31 2022, 08:41:55) [GCC 7.5.0]"
    },
    "vscode": {
      "interpreter": {
        "hash": "d6852d01271bf8033dbdb7ec364b6f6e89fd52a18c6bf5b4c73e48c86329a8dd"
      }
    }
  },
  "nbformat": 4,
  "nbformat_minor": 5
}